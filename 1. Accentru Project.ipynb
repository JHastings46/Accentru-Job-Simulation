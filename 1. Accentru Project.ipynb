{
 "cells": [
  {
   "cell_type": "code",
   "execution_count": 1,
   "id": "913c7058",
   "metadata": {},
   "outputs": [],
   "source": [
    "import pandas as pd\n",
    "\n",
    "# Load the data\n",
    "reactions_df = pd.read_csv('/Users/oakmoreroadinc./Desktop/Data Science /50.Accentru Project/csv files/Reactions-cleaned.csv')\n",
    "content_df = pd.read_csv('/Users/oakmoreroadinc./Desktop/Data Science /50.Accentru Project/csv files/Content-cleaned.csv')\n",
    "reaction_types_df = pd.read_csv('/Users/oakmoreroadinc./Desktop/Data Science /50.Accentru Project/csv files/ReactionTypes-cleaned.csv')"
   ]
  },
  {
   "cell_type": "code",
   "execution_count": 2,
   "id": "bc61bb5d",
   "metadata": {},
   "outputs": [],
   "source": [
    "# Drop the 'Unnamed: 0' columns\n",
    "reactions_df = reactions_df.drop(columns=['Unnamed: 0'])\n",
    "content_df = content_df.drop(columns=['Unnamed: 0'])\n",
    "reaction_types_df = reaction_types_df.drop(columns=['Unnamed: 0'])"
   ]
  },
  {
   "cell_type": "code",
   "execution_count": 3,
   "id": "0ddad6cd",
   "metadata": {},
   "outputs": [
    {
     "data": {
      "text/html": [
       "<div>\n",
       "<style scoped>\n",
       "    .dataframe tbody tr th:only-of-type {\n",
       "        vertical-align: middle;\n",
       "    }\n",
       "\n",
       "    .dataframe tbody tr th {\n",
       "        vertical-align: top;\n",
       "    }\n",
       "\n",
       "    .dataframe thead th {\n",
       "        text-align: right;\n",
       "    }\n",
       "</style>\n",
       "<table border=\"1\" class=\"dataframe\">\n",
       "  <thead>\n",
       "    <tr style=\"text-align: right;\">\n",
       "      <th></th>\n",
       "      <th>Content ID</th>\n",
       "      <th>Reactions Type</th>\n",
       "      <th>Datetime</th>\n",
       "    </tr>\n",
       "  </thead>\n",
       "  <tbody>\n",
       "    <tr>\n",
       "      <th>0</th>\n",
       "      <td>97522e57-d9ab-4bd6-97bf-c24d952602d2</td>\n",
       "      <td>disgust</td>\n",
       "      <td>11/7/20 9:43</td>\n",
       "    </tr>\n",
       "    <tr>\n",
       "      <th>1</th>\n",
       "      <td>97522e57-d9ab-4bd6-97bf-c24d952602d2</td>\n",
       "      <td>dislike</td>\n",
       "      <td>6/17/21 12:22</td>\n",
       "    </tr>\n",
       "    <tr>\n",
       "      <th>2</th>\n",
       "      <td>97522e57-d9ab-4bd6-97bf-c24d952602d2</td>\n",
       "      <td>scared</td>\n",
       "      <td>4/18/21 5:13</td>\n",
       "    </tr>\n",
       "    <tr>\n",
       "      <th>3</th>\n",
       "      <td>97522e57-d9ab-4bd6-97bf-c24d952602d2</td>\n",
       "      <td>disgust</td>\n",
       "      <td>1/6/21 19:13</td>\n",
       "    </tr>\n",
       "    <tr>\n",
       "      <th>4</th>\n",
       "      <td>97522e57-d9ab-4bd6-97bf-c24d952602d2</td>\n",
       "      <td>interested</td>\n",
       "      <td>8/23/20 12:25</td>\n",
       "    </tr>\n",
       "  </tbody>\n",
       "</table>\n",
       "</div>"
      ],
      "text/plain": [
       "                             Content ID Reactions Type       Datetime\n",
       "0  97522e57-d9ab-4bd6-97bf-c24d952602d2        disgust   11/7/20 9:43\n",
       "1  97522e57-d9ab-4bd6-97bf-c24d952602d2        dislike  6/17/21 12:22\n",
       "2  97522e57-d9ab-4bd6-97bf-c24d952602d2         scared   4/18/21 5:13\n",
       "3  97522e57-d9ab-4bd6-97bf-c24d952602d2        disgust   1/6/21 19:13\n",
       "4  97522e57-d9ab-4bd6-97bf-c24d952602d2     interested  8/23/20 12:25"
      ]
     },
     "execution_count": 3,
     "metadata": {},
     "output_type": "execute_result"
    }
   ],
   "source": [
    "reactions_df.head()"
   ]
  },
  {
   "cell_type": "code",
   "execution_count": 4,
   "id": "c6882d4d",
   "metadata": {},
   "outputs": [
    {
     "data": {
      "text/html": [
       "<div>\n",
       "<style scoped>\n",
       "    .dataframe tbody tr th:only-of-type {\n",
       "        vertical-align: middle;\n",
       "    }\n",
       "\n",
       "    .dataframe tbody tr th {\n",
       "        vertical-align: top;\n",
       "    }\n",
       "\n",
       "    .dataframe thead th {\n",
       "        text-align: right;\n",
       "    }\n",
       "</style>\n",
       "<table border=\"1\" class=\"dataframe\">\n",
       "  <thead>\n",
       "    <tr style=\"text-align: right;\">\n",
       "      <th></th>\n",
       "      <th>Content ID</th>\n",
       "      <th>Content Type</th>\n",
       "      <th>Category</th>\n",
       "    </tr>\n",
       "  </thead>\n",
       "  <tbody>\n",
       "    <tr>\n",
       "      <th>0</th>\n",
       "      <td>97522e57-d9ab-4bd6-97bf-c24d952602d2</td>\n",
       "      <td>photo</td>\n",
       "      <td>studying</td>\n",
       "    </tr>\n",
       "    <tr>\n",
       "      <th>1</th>\n",
       "      <td>9f737e0a-3cdd-4d29-9d24-753f4e3be810</td>\n",
       "      <td>photo</td>\n",
       "      <td>healthy eating</td>\n",
       "    </tr>\n",
       "    <tr>\n",
       "      <th>2</th>\n",
       "      <td>230c4e4d-70c3-461d-b42c-ec09396efb3f</td>\n",
       "      <td>photo</td>\n",
       "      <td>healthy eating</td>\n",
       "    </tr>\n",
       "    <tr>\n",
       "      <th>3</th>\n",
       "      <td>356fff80-da4d-4785-9f43-bc1261031dc6</td>\n",
       "      <td>photo</td>\n",
       "      <td>technology</td>\n",
       "    </tr>\n",
       "    <tr>\n",
       "      <th>4</th>\n",
       "      <td>01ab84dd-6364-4236-abbb-3f237db77180</td>\n",
       "      <td>video</td>\n",
       "      <td>food</td>\n",
       "    </tr>\n",
       "  </tbody>\n",
       "</table>\n",
       "</div>"
      ],
      "text/plain": [
       "                             Content ID Content Type        Category\n",
       "0  97522e57-d9ab-4bd6-97bf-c24d952602d2        photo        studying\n",
       "1  9f737e0a-3cdd-4d29-9d24-753f4e3be810        photo  healthy eating\n",
       "2  230c4e4d-70c3-461d-b42c-ec09396efb3f        photo  healthy eating\n",
       "3  356fff80-da4d-4785-9f43-bc1261031dc6        photo      technology\n",
       "4  01ab84dd-6364-4236-abbb-3f237db77180        video            food"
      ]
     },
     "execution_count": 4,
     "metadata": {},
     "output_type": "execute_result"
    }
   ],
   "source": [
    "content_df.head()"
   ]
  },
  {
   "cell_type": "code",
   "execution_count": 5,
   "id": "8af006bb",
   "metadata": {},
   "outputs": [
    {
     "data": {
      "text/html": [
       "<div>\n",
       "<style scoped>\n",
       "    .dataframe tbody tr th:only-of-type {\n",
       "        vertical-align: middle;\n",
       "    }\n",
       "\n",
       "    .dataframe tbody tr th {\n",
       "        vertical-align: top;\n",
       "    }\n",
       "\n",
       "    .dataframe thead th {\n",
       "        text-align: right;\n",
       "    }\n",
       "</style>\n",
       "<table border=\"1\" class=\"dataframe\">\n",
       "  <thead>\n",
       "    <tr style=\"text-align: right;\">\n",
       "      <th></th>\n",
       "      <th>Type</th>\n",
       "      <th>Sentiment</th>\n",
       "      <th>Score</th>\n",
       "    </tr>\n",
       "  </thead>\n",
       "  <tbody>\n",
       "    <tr>\n",
       "      <th>0</th>\n",
       "      <td>heart</td>\n",
       "      <td>positive</td>\n",
       "      <td>60</td>\n",
       "    </tr>\n",
       "    <tr>\n",
       "      <th>1</th>\n",
       "      <td>want</td>\n",
       "      <td>positive</td>\n",
       "      <td>70</td>\n",
       "    </tr>\n",
       "    <tr>\n",
       "      <th>2</th>\n",
       "      <td>disgust</td>\n",
       "      <td>negative</td>\n",
       "      <td>0</td>\n",
       "    </tr>\n",
       "    <tr>\n",
       "      <th>3</th>\n",
       "      <td>hate</td>\n",
       "      <td>negative</td>\n",
       "      <td>5</td>\n",
       "    </tr>\n",
       "    <tr>\n",
       "      <th>4</th>\n",
       "      <td>interested</td>\n",
       "      <td>positive</td>\n",
       "      <td>30</td>\n",
       "    </tr>\n",
       "  </tbody>\n",
       "</table>\n",
       "</div>"
      ],
      "text/plain": [
       "         Type Sentiment  Score\n",
       "0       heart  positive     60\n",
       "1        want  positive     70\n",
       "2     disgust  negative      0\n",
       "3        hate  negative      5\n",
       "4  interested  positive     30"
      ]
     },
     "execution_count": 5,
     "metadata": {},
     "output_type": "execute_result"
    }
   ],
   "source": [
    "reaction_types_df.head()"
   ]
  },
  {
   "cell_type": "code",
   "execution_count": 6,
   "id": "dd927b14",
   "metadata": {},
   "outputs": [],
   "source": [
    "# Merge reactions_df with content_df based on 'Content ID'\n",
    "merged_df = pd.merge(reactions_df, content_df, on='Content ID', how='left')\n",
    "\n",
    "# Merge the resulting dataframe with reaction_types_df based on 'Reactions Type'\n",
    "final_df = pd.merge(merged_df, reaction_types_df, left_on='Reactions Type', right_on='Type', how='left')\n",
    "\n",
    "# Drop the redundant 'Type' column\n",
    "final_df = final_df.drop(columns=['Type'])\n"
   ]
  },
  {
   "cell_type": "code",
   "execution_count": 7,
   "id": "1b6cb6d6",
   "metadata": {
    "scrolled": true
   },
   "outputs": [
    {
     "name": "stdout",
     "output_type": "stream",
     "text": [
      "         Category  Score\n",
      "0         animals  74965\n",
      "1         science  71168\n",
      "2  healthy eating  69339\n",
      "3      technology  68738\n",
      "4            food  66676\n"
     ]
    }
   ],
   "source": [
    "# Group by 'Category' and sum the 'Score' to find the top 5 categories\n",
    "top_categories = final_df.groupby('Category')['Score'].sum().sort_values(ascending=False).head(5).reset_index()\n",
    "\n",
    "# Display the top 5 categories\n",
    "print(top_categories)\n",
    "\n",
    "# Optionally, save the final DataFrame to a CSV file\n",
    "top_categories.to_csv('Top_5_Categories.csv', index=False)\n"
   ]
  },
  {
   "cell_type": "markdown",
   "id": "32697177",
   "metadata": {},
   "source": [
    "## Visulaizations"
   ]
  },
  {
   "cell_type": "code",
   "execution_count": 8,
   "id": "11388aaa",
   "metadata": {},
   "outputs": [],
   "source": [
    "# Load the final content data set\n",
    "content_data = pd.read_csv('/Users/oakmoreroadinc./Desktop/Data Science /50.Accentru Project/csv files/Task 3_Final Content Data set.csv')\n"
   ]
  },
  {
   "cell_type": "code",
   "execution_count": 9,
   "id": "0f491c5e",
   "metadata": {
    "scrolled": true
   },
   "outputs": [
    {
     "data": {
      "text/html": [
       "<div>\n",
       "<style scoped>\n",
       "    .dataframe tbody tr th:only-of-type {\n",
       "        vertical-align: middle;\n",
       "    }\n",
       "\n",
       "    .dataframe tbody tr th {\n",
       "        vertical-align: top;\n",
       "    }\n",
       "\n",
       "    .dataframe thead th {\n",
       "        text-align: right;\n",
       "    }\n",
       "</style>\n",
       "<table border=\"1\" class=\"dataframe\">\n",
       "  <thead>\n",
       "    <tr style=\"text-align: right;\">\n",
       "      <th></th>\n",
       "      <th>Unnamed: 0</th>\n",
       "      <th>Content ID</th>\n",
       "      <th>Reaction Type</th>\n",
       "      <th>Datetime</th>\n",
       "      <th>Content Type</th>\n",
       "      <th>Category</th>\n",
       "      <th>Sentiment</th>\n",
       "      <th>Score</th>\n",
       "    </tr>\n",
       "  </thead>\n",
       "  <tbody>\n",
       "    <tr>\n",
       "      <th>0</th>\n",
       "      <td>0</td>\n",
       "      <td>97522e57-d9ab-4bd6-97bf-c24d952602d2</td>\n",
       "      <td>disgust</td>\n",
       "      <td>7/11/20 9:43</td>\n",
       "      <td>photo</td>\n",
       "      <td>studying</td>\n",
       "      <td>negative</td>\n",
       "      <td>0</td>\n",
       "    </tr>\n",
       "    <tr>\n",
       "      <th>1</th>\n",
       "      <td>1</td>\n",
       "      <td>97522e57-d9ab-4bd6-97bf-c24d952602d2</td>\n",
       "      <td>dislike</td>\n",
       "      <td>17/6/21 12:22</td>\n",
       "      <td>photo</td>\n",
       "      <td>studying</td>\n",
       "      <td>negative</td>\n",
       "      <td>10</td>\n",
       "    </tr>\n",
       "    <tr>\n",
       "      <th>2</th>\n",
       "      <td>2</td>\n",
       "      <td>97522e57-d9ab-4bd6-97bf-c24d952602d2</td>\n",
       "      <td>scared</td>\n",
       "      <td>18/4/21 5:13</td>\n",
       "      <td>photo</td>\n",
       "      <td>studying</td>\n",
       "      <td>negative</td>\n",
       "      <td>15</td>\n",
       "    </tr>\n",
       "    <tr>\n",
       "      <th>3</th>\n",
       "      <td>3</td>\n",
       "      <td>97522e57-d9ab-4bd6-97bf-c24d952602d2</td>\n",
       "      <td>disgust</td>\n",
       "      <td>6/1/21 19:13</td>\n",
       "      <td>photo</td>\n",
       "      <td>studying</td>\n",
       "      <td>negative</td>\n",
       "      <td>0</td>\n",
       "    </tr>\n",
       "    <tr>\n",
       "      <th>4</th>\n",
       "      <td>4</td>\n",
       "      <td>97522e57-d9ab-4bd6-97bf-c24d952602d2</td>\n",
       "      <td>interested</td>\n",
       "      <td>23/8/20 12:25</td>\n",
       "      <td>photo</td>\n",
       "      <td>studying</td>\n",
       "      <td>positive</td>\n",
       "      <td>30</td>\n",
       "    </tr>\n",
       "  </tbody>\n",
       "</table>\n",
       "</div>"
      ],
      "text/plain": [
       "   Unnamed: 0                            Content ID Reaction Type  \\\n",
       "0           0  97522e57-d9ab-4bd6-97bf-c24d952602d2       disgust   \n",
       "1           1  97522e57-d9ab-4bd6-97bf-c24d952602d2       dislike   \n",
       "2           2  97522e57-d9ab-4bd6-97bf-c24d952602d2        scared   \n",
       "3           3  97522e57-d9ab-4bd6-97bf-c24d952602d2       disgust   \n",
       "4           4  97522e57-d9ab-4bd6-97bf-c24d952602d2    interested   \n",
       "\n",
       "        Datetime Content Type  Category Sentiment  Score  \n",
       "0   7/11/20 9:43        photo  studying  negative      0  \n",
       "1  17/6/21 12:22        photo  studying  negative     10  \n",
       "2   18/4/21 5:13        photo  studying  negative     15  \n",
       "3   6/1/21 19:13        photo  studying  negative      0  \n",
       "4  23/8/20 12:25        photo  studying  positive     30  "
      ]
     },
     "execution_count": 9,
     "metadata": {},
     "output_type": "execute_result"
    }
   ],
   "source": [
    "# Check the first few rows to understand the structure of the data\n",
    "content_data.head()"
   ]
  },
  {
   "cell_type": "code",
   "execution_count": 10,
   "id": "c2ed990e",
   "metadata": {},
   "outputs": [],
   "source": [
    "# Drop the 'Unnamed: 0' columns\n",
    "content_data = content_data.drop(columns=['Unnamed: 0'])"
   ]
  },
  {
   "cell_type": "code",
   "execution_count": 11,
   "id": "e865bce5",
   "metadata": {},
   "outputs": [
    {
     "data": {
      "text/html": [
       "<div>\n",
       "<style scoped>\n",
       "    .dataframe tbody tr th:only-of-type {\n",
       "        vertical-align: middle;\n",
       "    }\n",
       "\n",
       "    .dataframe tbody tr th {\n",
       "        vertical-align: top;\n",
       "    }\n",
       "\n",
       "    .dataframe thead th {\n",
       "        text-align: right;\n",
       "    }\n",
       "</style>\n",
       "<table border=\"1\" class=\"dataframe\">\n",
       "  <thead>\n",
       "    <tr style=\"text-align: right;\">\n",
       "      <th></th>\n",
       "      <th>Content ID</th>\n",
       "      <th>Reaction Type</th>\n",
       "      <th>Datetime</th>\n",
       "      <th>Content Type</th>\n",
       "      <th>Category</th>\n",
       "      <th>Sentiment</th>\n",
       "      <th>Score</th>\n",
       "    </tr>\n",
       "  </thead>\n",
       "  <tbody>\n",
       "    <tr>\n",
       "      <th>0</th>\n",
       "      <td>97522e57-d9ab-4bd6-97bf-c24d952602d2</td>\n",
       "      <td>disgust</td>\n",
       "      <td>7/11/20 9:43</td>\n",
       "      <td>photo</td>\n",
       "      <td>studying</td>\n",
       "      <td>negative</td>\n",
       "      <td>0</td>\n",
       "    </tr>\n",
       "    <tr>\n",
       "      <th>1</th>\n",
       "      <td>97522e57-d9ab-4bd6-97bf-c24d952602d2</td>\n",
       "      <td>dislike</td>\n",
       "      <td>17/6/21 12:22</td>\n",
       "      <td>photo</td>\n",
       "      <td>studying</td>\n",
       "      <td>negative</td>\n",
       "      <td>10</td>\n",
       "    </tr>\n",
       "    <tr>\n",
       "      <th>2</th>\n",
       "      <td>97522e57-d9ab-4bd6-97bf-c24d952602d2</td>\n",
       "      <td>scared</td>\n",
       "      <td>18/4/21 5:13</td>\n",
       "      <td>photo</td>\n",
       "      <td>studying</td>\n",
       "      <td>negative</td>\n",
       "      <td>15</td>\n",
       "    </tr>\n",
       "    <tr>\n",
       "      <th>3</th>\n",
       "      <td>97522e57-d9ab-4bd6-97bf-c24d952602d2</td>\n",
       "      <td>disgust</td>\n",
       "      <td>6/1/21 19:13</td>\n",
       "      <td>photo</td>\n",
       "      <td>studying</td>\n",
       "      <td>negative</td>\n",
       "      <td>0</td>\n",
       "    </tr>\n",
       "    <tr>\n",
       "      <th>4</th>\n",
       "      <td>97522e57-d9ab-4bd6-97bf-c24d952602d2</td>\n",
       "      <td>interested</td>\n",
       "      <td>23/8/20 12:25</td>\n",
       "      <td>photo</td>\n",
       "      <td>studying</td>\n",
       "      <td>positive</td>\n",
       "      <td>30</td>\n",
       "    </tr>\n",
       "  </tbody>\n",
       "</table>\n",
       "</div>"
      ],
      "text/plain": [
       "                             Content ID Reaction Type       Datetime  \\\n",
       "0  97522e57-d9ab-4bd6-97bf-c24d952602d2       disgust   7/11/20 9:43   \n",
       "1  97522e57-d9ab-4bd6-97bf-c24d952602d2       dislike  17/6/21 12:22   \n",
       "2  97522e57-d9ab-4bd6-97bf-c24d952602d2        scared   18/4/21 5:13   \n",
       "3  97522e57-d9ab-4bd6-97bf-c24d952602d2       disgust   6/1/21 19:13   \n",
       "4  97522e57-d9ab-4bd6-97bf-c24d952602d2    interested  23/8/20 12:25   \n",
       "\n",
       "  Content Type  Category Sentiment  Score  \n",
       "0        photo  studying  negative      0  \n",
       "1        photo  studying  negative     10  \n",
       "2        photo  studying  negative     15  \n",
       "3        photo  studying  negative      0  \n",
       "4        photo  studying  positive     30  "
      ]
     },
     "execution_count": 11,
     "metadata": {},
     "output_type": "execute_result"
    }
   ],
   "source": [
    "content_data.head()"
   ]
  },
  {
   "cell_type": "code",
   "execution_count": 12,
   "id": "cf8171f4",
   "metadata": {},
   "outputs": [
    {
     "data": {
      "text/plain": [
       "(16, 'animals', 1897, Period('2021-01', 'M'))"
      ]
     },
     "execution_count": 12,
     "metadata": {},
     "output_type": "execute_result"
    }
   ],
   "source": [
    "# Number of unique categories\n",
    "unique_categories_count = content_data['Category'].nunique()\n",
    "\n",
    "# Reactions to the most popular category (assuming we calculate reactions based on previous data)\n",
    "most_popular_category = content_data['Category'].value_counts().idxmax()\n",
    "reactions_most_popular_category = content_data[content_data['Category'] == most_popular_category].shape[0]\n",
    "\n",
    "# Extract month from the 'Datetime' column for analysis\n",
    "content_data['Month'] = pd.to_datetime(content_data['Datetime']).dt.to_period('M')\n",
    "\n",
    "# Month with the most posts\n",
    "most_posts_month = content_data['Month'].value_counts().idxmax()\n",
    "\n",
    "unique_categories_count, most_popular_category, reactions_most_popular_category, most_posts_month\n"
   ]
  },
  {
   "cell_type": "code",
   "execution_count": 19,
   "id": "8a234fb3",
   "metadata": {},
   "outputs": [
    {
     "data": {
      "image/png": "[encoded data removed]",
      "text/plain": [
       "<Figure size 300x200 with 1 Axes>"
      ]
     },
     "metadata": {},
     "output_type": "display_data"
    },
    {
     "data": {
      "image/png": "[encoded data removed]",
      "text/plain": [
       "<Figure size 800x600 with 1 Axes>"
      ]
     },
     "metadata": {},
     "output_type": "display_data"
    },
    {
     "data": {
      "image/png": "[encoded data removed]",
      "text/plain": [
       "<Figure size 800x600 with 1 Axes>"
      ]
     },
     "metadata": {},
     "output_type": "display_data"
    }
   ],
   "source": [
    "import matplotlib.pyplot as plt\n",
    "import pandas as pd\n",
    "\n",
    "# Data for visualizations\n",
    "unique_categories_count = 16\n",
    "most_popular_category = 'animals'\n",
    "reactions_most_popular_category = 1897\n",
    "posts_by_month = {'2021-01': 1897, '2021-02': 1200, '2021-03': 1500, '2021-04': 1600, '2021-05': 1800}\n",
    "\n",
    "# Visualization 1: Unique Categories\n",
    "plt.figure(figsize=(3, 2))\n",
    "plt.text(0.5, 0.5, f\"{unique_categories_count} Unique Categories\", fontsize=20, ha='center', va='center', fontweight='bold')\n",
    "plt.axis('off')\n",
    "plt.title(\"Unique Categories\", fontsize=14)\n",
    "plt.savefig('unique_categories.png', dpi=300)\n",
    "plt.show()\n",
    "\n",
    "# Visualization 2: Number of Reactions to the Most Popular Category (Bar Chart)\n",
    "categories = ['animals', 'technology', 'sports', 'news', 'entertainment']\n",
    "reactions = [1897, 1500, 1300, 1100, 900]\n",
    "\n",
    "plt.figure(figsize=(8, 6))\n",
    "bars = plt.bar(categories, reactions, color=['orange' if cat == most_popular_category else 'blue' for cat in categories])\n",
    "plt.bar_label(bars)\n",
    "plt.title(\"Number of Reactions to the Most Popular Category\")\n",
    "plt.xlabel(\"Categories\")\n",
    "plt.ylabel(\"Number of Reactions\")\n",
    "plt.savefig('reactions_most_popular_category.png', dpi=300)\n",
    "plt.show()\n",
    "\n",
    "# Visualization 3: Month with the Most Posts (Line Chart)\n",
    "posts_df = pd.DataFrame(list(posts_by_month.items()), columns=['Month', 'Posts'])\n",
    "posts_df['Month'] = pd.to_datetime(posts_df['Month'], format='%Y-%m')\n",
    "\n",
    "plt.figure(figsize=(8, 6))\n",
    "plt.plot(posts_df['Month'], posts_df['Posts'], marker='o', linestyle='-', color='green')\n",
    "plt.axvline(x=pd.to_datetime('2021-01', format='%Y-%m'), color='red', linestyle='--', label=\"Most Posts in Jan 2021\")\n",
    "plt.annotate('Most Posts', xy=(pd.to_datetime('2021-01', format='%Y-%m'), 1897), xytext=(pd.to_datetime('2021-02', format='%Y-%m'), 1900),\n",
    "             arrowprops=dict(facecolor='black', shrink=0.05), fontsize=12)\n",
    "plt.title(\"Number of Posts Per Month\")\n",
    "plt.xlabel(\"Month\")\n",
    "plt.ylabel(\"Number of Posts\")\n",
    "plt.xticks(rotation=45)  # Rotate x-axis labels\n",
    "plt.tight_layout()  # Adjust layout to fit labels\n",
    "plt.legend()\n",
    "plt.savefig('most_posts_month.png', dpi=300)\n",
    "plt.show()\n"
   ]
  },
  {
   "cell_type": "code",
   "execution_count": null,
   "id": "33d66b83",
   "metadata": {},
   "outputs": [],
   "source": []
  },
  {
   "cell_type": "code",
   "execution_count": null,
   "id": "87195150",
   "metadata": {},
   "outputs": [],
   "source": []
  },
  {
   "cell_type": "code",
   "execution_count": null,
   "id": "9ffccd6c",
   "metadata": {},
   "outputs": [],
   "source": []
  },
  {
   "cell_type": "code",
   "execution_count": null,
   "id": "2e6a4065",
   "metadata": {},
   "outputs": [],
   "source": []
  },
  {
   "cell_type": "code",
   "execution_count": null,
   "id": "3f734af4",
   "metadata": {},
   "outputs": [],
   "source": []
  },
  {
   "cell_type": "code",
   "execution_count": null,
   "id": "18904288",
   "metadata": {},
   "outputs": [],
   "source": []
  }
 ],
 "metadata": {
  "kernelspec": {
   "display_name": "Python 3 (ipykernel)",
   "language": "python",
   "name": "python3"
  },
  "language_info": {
   "codemirror_mode": {
    "name": "ipython",
    "version": 3
   },
   "file_extension": ".py",
   "mimetype": "text/x-python",
   "name": "python",
   "nbconvert_exporter": "python",
   "pygments_lexer": "ipython3",
   "version": "3.10.9"
  }
 },
 "nbformat": 4,
 "nbformat_minor": 5
}
